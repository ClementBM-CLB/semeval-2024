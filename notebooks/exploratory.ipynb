{
 "cells": [
  {
   "cell_type": "code",
   "execution_count": 1,
   "metadata": {},
   "outputs": [],
   "source": [
    "import pickle\n",
    "import pandas as pd\n",
    "\n",
    "file_path = \"/home/bruttima@clb.loc/src/dagster-tuto/artifacts/data/reformulate\""
   ]
  },
  {
   "cell_type": "code",
   "execution_count": 2,
   "metadata": {},
   "outputs": [
    {
     "name": "stderr",
     "output_type": "stream",
     "text": [
      "/home/bruttima@clb.loc/src/dagster-tuto/.venv/lib/python3.10/site-packages/pydantic/_internal/_fields.py:151: UserWarning: Field \"model_path\" has conflict with protected namespace \"model_\".\n",
      "\n",
      "You may be able to resolve this warning by setting `model_config['protected_namespaces'] = ()`.\n",
      "  warnings.warn(\n"
     ]
    }
   ],
   "source": [
    "with open(file_path, mode=\"rb\") as file:\n",
    "    mydict = pickle.load(file)"
   ]
  },
  {
   "cell_type": "code",
   "execution_count": 3,
   "metadata": {},
   "outputs": [
    {
     "data": {
      "text/plain": [
       "{'system_prompt': '',\n",
       " 'user_messages': ['Please reformulate the following hypothesis:\\nAnswer in JSON format:\\n\\n{ \"statement\": \"\" }\\n\\nStatement: \"\"\"there is a 13.2% difference between the results from the two the primary trial cohorts\"\"\"',\n",
       "  'Please reformulate the following hypothesis:\\nAnswer in JSON format:\\n\\n{ \"statement\": \"\" }\\n\\nStatement: \"\"\"Patients with significantly elevated ejection fraction are excluded from the primary trial, but can still be eligible for the secondary trial if they are 55 years of age or over\"\"\"',\n",
       "  'Please reformulate the following hypothesis:\\nAnswer in JSON format:\\n\\n{ \"statement\": \"\" }\\n\\nStatement: \"\"\"a significant number of the participants in the secondary trial and the primary trial suffered from Enterocolitis\"\"\"'],\n",
       " 'model_replies': [' { \"statement\": \"The difference between the results in the two primary trial cohorts is approximately 13.2%.\" }',\n",
       "  ' { \"statement\": \"Patients with ejection fraction above a significant threshold are ineligible for the primary trial, but may be considered for the secondary trial if they are 55 years old or older.\" }',\n",
       "  ' { \"statement\": \"A substantial number of participants in both the secondary trial and the primary trial experienced Enterocolitis.\" }']}"
      ]
     },
     "execution_count": 3,
     "metadata": {},
     "output_type": "execute_result"
    }
   ],
   "source": [
    "mydict[\"1adc970c-d433-44d0-aa09-d3834986f7a2\"].dict()"
   ]
  },
  {
   "cell_type": "code",
   "execution_count": 4,
   "metadata": {},
   "outputs": [
    {
     "name": "stdout",
     "output_type": "stream",
     "text": [
      "|    | system_prompt   | user_messages                                                                                                                                                                                                                                                                                                                                                                                                                                                                                                                                                                                                                                                                                                                                        | model_replies                                                                                                                                                                                                                                                                                                                                                                                                                                                            |\n",
      "|---:|:----------------|:-----------------------------------------------------------------------------------------------------------------------------------------------------------------------------------------------------------------------------------------------------------------------------------------------------------------------------------------------------------------------------------------------------------------------------------------------------------------------------------------------------------------------------------------------------------------------------------------------------------------------------------------------------------------------------------------------------------------------------------------------------|:-------------------------------------------------------------------------------------------------------------------------------------------------------------------------------------------------------------------------------------------------------------------------------------------------------------------------------------------------------------------------------------------------------------------------------------------------------------------------|\n",
      "|  0 |                 | ['Please reformulate the following hypothesis:\\nAnswer in JSON format:\\n\\n{ \"statement\": \"\" }\\n\\nStatement: \"\"\"there is a 13.2% difference between the results from the two the primary trial cohorts\"\"\"', 'Please reformulate the following hypothesis:\\nAnswer in JSON format:\\n\\n{ \"statement\": \"\" }\\n\\nStatement: \"\"\"Patients with significantly elevated ejection fraction are excluded from the primary trial, but can still be eligible for the secondary trial if they are 55 years of age or over\"\"\"', 'Please reformulate the following hypothesis:\\nAnswer in JSON format:\\n\\n{ \"statement\": \"\" }\\n\\nStatement: \"\"\"a significant number of the participants in the secondary trial and the primary trial suffered from Enterocolitis\"\"\"'] | [' { \"statement\": \"The difference between the results in the two primary trial cohorts is approximately 13.2%.\" }', ' { \"statement\": \"Patients with ejection fraction above a significant threshold are ineligible for the primary trial, but may be considered for the secondary trial if they are 55 years old or older.\" }', ' { \"statement\": \"A substantial number of participants in both the secondary trial and the primary trial experienced Enterocolitis.\" }'] |\n",
      "|  1 |                 | ['Please reformulate the following hypothesis:\\nAnswer in JSON format:\\n\\n{ \"statement\": \"\" }\\n\\nStatement: \"\"\"there is a 13.2% difference between the results from the two the primary trial cohorts\"\"\"', 'Please reformulate the following hypothesis:\\nAnswer in JSON format:\\n\\n{ \"statement\": \"\" }\\n\\nStatement: \"\"\"Patients with significantly elevated ejection fraction are excluded from the primary trial, but can still be eligible for the secondary trial if they are 55 years of age or over\"\"\"', 'Please reformulate the following hypothesis:\\nAnswer in JSON format:\\n\\n{ \"statement\": \"\" }\\n\\nStatement: \"\"\"a significant number of the participants in the secondary trial and the primary trial suffered from Enterocolitis\"\"\"'] | [' { \"statement\": \"The difference between the results in the two primary trial cohorts is approximately 13.2%.\" }', ' { \"statement\": \"Patients with ejection fraction above a significant threshold are ineligible for the primary trial, but may be considered for the secondary trial if they are 55 years old or older.\" }', ' { \"statement\": \"A substantial number of participants in both the secondary trial and the primary trial experienced Enterocolitis.\" }'] |\n",
      "|  2 |                 | ['Please reformulate the following hypothesis:\\nAnswer in JSON format:\\n\\n{ \"statement\": \"\" }\\n\\nStatement: \"\"\"there is a 13.2% difference between the results from the two the primary trial cohorts\"\"\"', 'Please reformulate the following hypothesis:\\nAnswer in JSON format:\\n\\n{ \"statement\": \"\" }\\n\\nStatement: \"\"\"Patients with significantly elevated ejection fraction are excluded from the primary trial, but can still be eligible for the secondary trial if they are 55 years of age or over\"\"\"', 'Please reformulate the following hypothesis:\\nAnswer in JSON format:\\n\\n{ \"statement\": \"\" }\\n\\nStatement: \"\"\"a significant number of the participants in the secondary trial and the primary trial suffered from Enterocolitis\"\"\"'] | [' { \"statement\": \"The difference between the results in the two primary trial cohorts is approximately 13.2%.\" }', ' { \"statement\": \"Patients with ejection fraction above a significant threshold are ineligible for the primary trial, but may be considered for the secondary trial if they are 55 years old or older.\" }', ' { \"statement\": \"A substantial number of participants in both the secondary trial and the primary trial experienced Enterocolitis.\" }'] |\n"
     ]
    }
   ],
   "source": [
    "chat_message_df = pd.DataFrame.from_records(\n",
    "    [x.dict() for x in mydict.values()]\n",
    ")\n",
    "print(chat_message_df.to_markdown())"
   ]
  },
  {
   "cell_type": "code",
   "execution_count": 2,
   "metadata": {},
   "outputs": [
    {
     "name": "stderr",
     "output_type": "stream",
     "text": [
      "/home/bruttima@clb.loc/src/dagster-tuto/.venv/lib/python3.10/site-packages/pydantic/_internal/_fields.py:151: UserWarning: Field \"model_path\" has conflict with protected namespace \"model_\".\n",
      "\n",
      "You may be able to resolve this warning by setting `model_config['protected_namespaces'] = ()`.\n",
      "  warnings.warn(\n"
     ]
    }
   ],
   "source": [
    "from semeval.resources.llm_resource import ChatMessageModel\n",
    "\n",
    "\n",
    "with open(\"/home/bruttima@clb.loc/src/dagster-tuto/artifacts/data/semeval2024_data\", mode=\"rb\") as file:\n",
    "    semeval2024_data = pickle.load(file)\n",
    "\n",
    "chat_messages = {}\n",
    " \n",
    "for i, sample in enumerate(semeval2024_data):\n",
    "    chat_message = None\n",
    "    chat_message = ChatMessageModel(system_prompt=\"\")\n",
    "\n",
    "    message = f\"toto message {i}\"\n",
    "\n",
    "    chat_message.add_user_message(message)\n",
    "    prediction = f\"tata reponse {i}\"\n",
    "\n",
    "    chat_message.add_model_reply(prediction)\n",
    "    chat_messages[sample.key] = chat_message\n"
   ]
  },
  {
   "cell_type": "code",
   "execution_count": 5,
   "metadata": {},
   "outputs": [
    {
     "data": {
      "text/plain": [
       "{'system_prompt': '',\n",
       " 'user_messages': ['toto message 2'],\n",
       " 'model_replies': ['tata reponse 2']}"
      ]
     },
     "execution_count": 5,
     "metadata": {},
     "output_type": "execute_result"
    }
   ],
   "source": [
    "chat_messages[\"0b6cc8e3-69ee-4a91-b93d-2ad3fddce65f\"].dict()"
   ]
  }
 ],
 "metadata": {
  "kernelspec": {
   "display_name": ".venv",
   "language": "python",
   "name": "python3"
  },
  "language_info": {
   "codemirror_mode": {
    "name": "ipython",
    "version": 3
   },
   "file_extension": ".py",
   "mimetype": "text/x-python",
   "name": "python",
   "nbconvert_exporter": "python",
   "pygments_lexer": "ipython3",
   "version": "3.10.13"
  }
 },
 "nbformat": 4,
 "nbformat_minor": 2
}
